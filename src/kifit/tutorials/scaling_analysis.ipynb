{
 "cells": [
  {
   "cell_type": "code",
   "execution_count": 1,
   "id": "a13b5ea1-c2b5-4b1d-a733-0326b6d53f9b",
   "metadata": {},
   "outputs": [],
   "source": [
    "import matplotlib.pyplot as plt\n",
    "import numpy as np\n",
    "from scipy import odr"
   ]
  },
  {
   "cell_type": "code",
   "execution_count": 3,
   "id": "d6709662-2157-4104-a45d-ae6ce85d5788",
   "metadata": {},
   "outputs": [],
   "source": [
    "def f(p, x):\n",
    "    \"\"\"This is a line.\"\"\"\n",
    "    return p[0] * x + p[1]\n",
    "\n",
    "a = 0.5\n",
    "b = 0.01\n",
    "\n",
    "beta0 = [a,b]\n",
    "\n",
    "lin_model = odr.Model(f)\n",
    "\n",
    "eF = 1. / np.sqrt(1 * a**2) * np.array([1., a])\n",
    "sigma_pos = 0.1"
   ]
  },
  {
   "cell_type": "code",
   "execution_count": 4,
   "id": "915ac13d-e005-4cb5-91f6-efd65d7eb28e",
   "metadata": {},
   "outputs": [],
   "source": [
    "x = np.linspace(-1, 1)\n",
    "y = f([a,b], x)"
   ]
  },
  {
   "cell_type": "code",
   "execution_count": 5,
   "id": "36a4e07c-ce4c-4f7b-b9d5-7f576ba3e9d8",
   "metadata": {},
   "outputs": [],
   "source": [
    "def sample_pseudo_points(n, x_values, sigma_pos, sigma_meas):\n",
    "    fit_params = []\n",
    "    for k in range(n):\n",
    "        points = []\n",
    "        np.random.seed(k)\n",
    "        for i, xi in enumerate(x_values):\n",
    "            sampled_x = np.random.normal(xi, sigma_pos)\n",
    "            sampled_y = np.random.normal(f([a,b],xi), sigma_pos)\n",
    "            sampled_sx = np.random.normal(0, sigma_meas[i])\n",
    "            sampled_sy = np.random.normal(0, sigma_meas[i])\n",
    "            points.append(\n",
    "                [sampled_x, sampled_y, sampled_sx, sampled_sy]\n",
    "            )            \n",
    "        points = np.asarray(points)\n",
    "        data = odr.RealData(\n",
    "            x=points.T[0], \n",
    "            y=points.T[1],\n",
    "            sx=points.T[2],\n",
    "            sy=points.T[3],\n",
    "        )\n",
    "        odr_obj = odr.ODR(data, lin_model, beta0=beta0)\n",
    "        out = odr_obj.run()\n",
    "        fit_params.append(\n",
    "            [out.beta, out.sd_beta]\n",
    "        )\n",
    "    return np.asarray(fit_params)\n",
    "\n",
    "\n",
    "def distance(pseudo_point, target_x):\n",
    "    \"\"\"Compute error distance\"\"\"\n",
    "    delta = np.array([0., pseudo_point[1] - f([a,b],target_x)])\n",
    "    d = delta - (delta @ eF) * eF\n",
    "    return np.linalg.norm(d)\n",
    "\n",
    "def sample_distance(fake_points, x_values):\n",
    "    logL = 0.\n",
    "    k = 0\n",
    "    for i, fx in enumerate(fake_points):\n",
    "        \n",
    "        logL += ( distance(fx, x_values[k]) / fx[2] ) ** 2\n",
    "        k += 1\n",
    "        if k == len(x_values):\n",
    "            k = 0\n",
    "    return logL / len(fake_points)\n",
    "\n",
    "def stupid_metric(sampled_params, target_params):\n",
    "    mse = 0.\n",
    "    for sp in sampled_params:\n",
    "        mse += (sp[0][0] - target_params[0])**2\n",
    "        mse += (sp[0][1] - target_params[1])**2 \n",
    "    return mse / len(sampled_params)\n",
    "\n",
    "def less_stupid_metric(sampled_params, target_params):\n",
    "    mse = 0.\n",
    "    for sp in sampled_params:\n",
    "        mse += (sp[0][0] - target_params[0])**2 / sp[1][0]**2\n",
    "        mse += (sp[0][1] - target_params[1])**2 / sp[1][1]**2 \n",
    "    return mse / len(sampled_params)"
   ]
  },
  {
   "cell_type": "code",
   "execution_count": null,
   "id": "11c7ce5b-1ac7-40ff-871d-a4f06657d22a",
   "metadata": {},
   "outputs": [],
   "source": []
  },
  {
   "cell_type": "code",
   "execution_count": 6,
   "id": "d964a445-0aa5-4c94-88df-208e307f8806",
   "metadata": {},
   "outputs": [
    {
     "data": {
      "text/plain": [
       "np.float64(0.0)"
      ]
     },
     "execution_count": 6,
     "metadata": {},
     "output_type": "execute_result"
    }
   ],
   "source": [
    "sampled_fit_params = sample_pseudo_points(\n",
    "    n=10,\n",
    "    x_values=x_values[:1],\n",
    "    sigma_pos=sigma_pos,\n",
    "    sigma_meas=sigma_meas,\n",
    ")\n",
    "\n",
    "stupid_metric(\n",
    "    sampled_params=sampled_fit_params,\n",
    "    target_params=beta0,\n",
    ")"
   ]
  },
  {
   "cell_type": "code",
   "execution_count": 9,
   "id": "ee9afa1b-eab2-4bc0-8e44-1ffc3ff16e88",
   "metadata": {},
   "outputs": [
    {
     "name": "stderr",
     "output_type": "stream",
     "text": [
      "/tmp/ipykernel_70327/4069976724.py:56: RuntimeWarning: divide by zero encountered in scalar divide\n",
      "  mse += (sp[0][0] - target_params[0])**2 / sp[1][0]**2\n",
      "/tmp/ipykernel_70327/4069976724.py:57: RuntimeWarning: divide by zero encountered in scalar divide\n",
      "  mse += (sp[0][1] - target_params[1])**2 / sp[1][1]**2\n"
     ]
    }
   ],
   "source": [
    "scaling = []\n",
    "indices = np.arange(2,10,1)\n",
    "x_values = np.linspace(-1,1,10)\n",
    "sigma_meas = [0.01] * 10\n",
    "\n",
    "for i in indices:\n",
    "    sampled_fit_params = sample_pseudo_points(\n",
    "        n=5000,\n",
    "        x_values=x_values[:i],\n",
    "        sigma_pos=sigma_pos,\n",
    "        sigma_meas=sigma_meas[:i],\n",
    "    )\n",
    "    scaling.append(less_stupid_metric(\n",
    "        sampled_params=sampled_fit_params,\n",
    "        target_params=beta0,\n",
    "    ))"
   ]
  },
  {
   "cell_type": "code",
   "execution_count": 10,
   "id": "98f3b153-1933-41bd-a825-b7157800fe03",
   "metadata": {},
   "outputs": [
    {
     "data": {
      "image/png": "[encoded data removed]",
      "text/plain": [
       "<Figure size 640x480 with 1 Axes>"
      ]
     },
     "metadata": {},
     "output_type": "display_data"
    }
   ],
   "source": [
    "plt.plot(indices, scaling, markersize=15, marker=\".\")\n",
    "plt.yscale(\"log\")"
   ]
  },
  {
   "cell_type": "code",
   "execution_count": null,
   "id": "8ae94c3f-18ed-47aa-b1e7-702991a7199f",
   "metadata": {},
   "outputs": [],
   "source": []
  }
 ],
 "metadata": {
  "kernelspec": {
   "display_name": "Python 3 (ipykernel)",
   "language": "python",
   "name": "python3"
  },
  "language_info": {
   "codemirror_mode": {
    "name": "ipython",
    "version": 3
   },
   "file_extension": ".py",
   "mimetype": "text/x-python",
   "name": "python",
   "nbconvert_exporter": "python",
   "pygments_lexer": "ipython3",
   "version": "3.11.11"
  }
 },
 "nbformat": 4,
 "nbformat_minor": 5
}
