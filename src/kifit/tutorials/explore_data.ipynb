{
 "cells": [
  {
   "cell_type": "markdown",
   "id": "709d4feb-9daf-406b-a2ec-2e656962097e",
   "metadata": {},
   "source": [
    "#### How to play with results"
   ]
  },
  {
   "cell_type": "code",
   "execution_count": 17,
   "id": "6e9896c4-0f69-492b-94a4-fabe3a4552e3",
   "metadata": {},
   "outputs": [],
   "source": [
    "import logging\n",
    "# this is just muting the logging.infos\n",
    "logging.basicConfig(level=logging.ERROR)\n",
    "\n",
    "from kifit.run import RunParams, Runner\n",
    "from kifit.plot import update_config_file"
   ]
  },
  {
   "cell_type": "markdown",
   "id": "07ae2edb-657a-4efd-a0e5-a1dc92a14430",
   "metadata": {},
   "source": [
    "First, we set a default configuration file. This is useful here because all the runs we want to compare have been done with same parameters. The only changing parameter was the element, so we are going to play with the element name only."
   ]
  },
  {
   "cell_type": "code",
   "execution_count": 18,
   "id": "3250bf6f-9c5f-4dbc-91c7-430067c907dd",
   "metadata": {},
   "outputs": [],
   "source": [
    "config_file = \"./data_configs/base_config.json\"\n",
    "# we construct a RunParams class, which is useful to construct some objects used by kifit\n",
    "params = RunParams(configuration_file=config_file)"
   ]
  },
  {
   "cell_type": "code",
   "execution_count": 19,
   "id": "41e74beb-0fa4-43cf-9029-b590faa99456",
   "metadata": {},
   "outputs": [],
   "source": [
    "# we need a Runner now, namely a kifit class able to access informations, manipulate attributes\n",
    "# the Runner is an helper class which can be used to facilitate your work\n",
    "ermes = Runner(params)"
   ]
  },
  {
   "cell_type": "code",
   "execution_count": 20,
   "id": "a89b1891-ed67-4702-b364-e48165e335ff",
   "metadata": {},
   "outputs": [
    {
     "name": "stdout",
     "output_type": "stream",
     "text": [
      "globalogrid\n",
      "300\n"
     ]
    }
   ],
   "source": [
    "# for example, it can be used to check the fit parameters\n",
    "# such as the search mode\n",
    "print(ermes.config.params.search_mode)\n",
    "# or the number of alphas sampled in the Monte Carlo process\n",
    "print(ermes.config.params.num_alphasamples_search)"
   ]
  },
  {
   "cell_type": "code",
   "execution_count": 21,
   "id": "2dcf7aa1-0b1e-44fe-b3ae-bf3afb4ebbbc",
   "metadata": {},
   "outputs": [
    {
     "name": "stdout",
     "output_type": "stream",
     "text": [
      "UB value for Ca_PTB_2015: 6.046896020794846e-10\n",
      "UB value for Ca_WT_Aarhus_2020: 8.082370326461842e-11\n",
      "UB value for Ca_WT_Aarhus_2024: 2.400889113324632e-11\n",
      "UB value for Ca_WT_Aarhus_PTB_2020: 9.426189103836763e-10\n",
      "UB value for Ca_WT_Aarhus_PTB_2024: 9.426189103836763e-10\n",
      "UB value for Camin: 8.32176529853559e-11\n",
      "UB value for Camin_swap: 2.3560668968152656e-07\n"
     ]
    }
   ],
   "source": [
    "# let's collect all the elements whose results we want to explore\n",
    "elements = [\n",
    "    \"Ca_PTB_2015\", \n",
    "    \"Ca_WT_Aarhus_2020\", \n",
    "    \"Ca_WT_Aarhus_2024\",\n",
    "    \"Ca_WT_Aarhus_PTB_2020\", \n",
    "    \"Ca_WT_Aarhus_PTB_2024\", \n",
    "    \"Camin\",\n",
    "    \"Camin_swap\",\n",
    "]\n",
    "\n",
    "# define a target variable to collect\n",
    "variable = \"UB\"\n",
    "\n",
    "# for each element\n",
    "for i, elem in enumerate(elements):\n",
    "    # we update the config file setting the element in the element_list attribute\n",
    "    update_config_file(file_path=config_file, keyword=\"element\", new_value=[elements[i]])\n",
    "    # we update our Runner\n",
    "    ermes.load_config(configuration_file=config_file)\n",
    "    # we ask Ermes to give us results (if there are!)\n",
    "    results = ermes.config.paths.read_fit_output(x=0)\n",
    "    # print them\n",
    "    print(f\"{variable} value for {elem}: {results[variable]}\")"
   ]
  },
  {
   "cell_type": "code",
   "execution_count": null,
   "id": "beac6b68-2629-4f71-87a5-634dd9732080",
   "metadata": {},
   "outputs": [],
   "source": []
  },
  {
   "cell_type": "code",
   "execution_count": null,
   "id": "fc47628d-e101-4b68-a18e-fa227c895891",
   "metadata": {},
   "outputs": [],
   "source": []
  }
 ],
 "metadata": {
  "kernelspec": {
   "display_name": "Python 3 (ipykernel)",
   "language": "python",
   "name": "python3"
  },
  "language_info": {
   "codemirror_mode": {
    "name": "ipython",
    "version": 3
   },
   "file_extension": ".py",
   "mimetype": "text/x-python",
   "name": "python",
   "nbconvert_exporter": "python",
   "pygments_lexer": "ipython3",
   "version": "3.10.0"
  }
 },
 "nbformat": 4,
 "nbformat_minor": 5
}
