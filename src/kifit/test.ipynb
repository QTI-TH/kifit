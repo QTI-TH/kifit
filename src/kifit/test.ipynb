{
 "cells": [
  {
   "cell_type": "code",
   "execution_count": 1,
   "metadata": {},
   "outputs": [],
   "source": [
    "import numpy as np\n",
    "import matplotlib.pyplot as plt\n",
    "import scipy.stats as sps"
   ]
  },
  {
   "cell_type": "code",
   "execution_count": null,
   "metadata": {},
   "outputs": [],
   "source": []
  },
  {
   "cell_type": "code",
   "execution_count": 9,
   "metadata": {},
   "outputs": [
    {
     "data": {
      "text/plain": [
       "array([1, 2, 3, 4, 5, 6, 7, 8, 9])"
      ]
     },
     "execution_count": 9,
     "metadata": {},
     "output_type": "execute_result"
    }
   ],
   "source": [
    "a = np.arange(10)\n",
    "a = np.delete(a, 0)\n",
    "a"
   ]
  },
  {
   "cell_type": "code",
   "execution_count": 7,
   "metadata": {},
   "outputs": [
    {
     "data": {
      "text/plain": [
       "array([[0.63425307, 0.9404616 , 0.10141061, 0.54208564],\n",
       "       [0.55489582, 0.00956025, 0.48389965, 0.04701944],\n",
       "       [0.195945  , 0.56444666, 0.11064958, 0.80260851]])"
      ]
     },
     "execution_count": 7,
     "metadata": {},
     "output_type": "execute_result"
    }
   ],
   "source": [
    "a = np.random.random((3,4))\n",
    "a"
   ]
  },
  {
   "cell_type": "code",
   "execution_count": 17,
   "metadata": {},
   "outputs": [
    {
     "name": "stdout",
     "output_type": "stream",
     "text": [
      "[0, 1, 2, 3, 4, 5, 6, 7, 8, 9, 10, 11, 12, 13, 14, 15, 16, 17, 18, 19, 1000]\n"
     ]
    },
    {
     "data": {
      "text/plain": [
       "([0, 1, 2, 3, 4, 5, 6, 7, 8, 9],\n",
       " [10, 11, 12, 13, 14, 15, 16, 17, 18, 19],\n",
       " 1000)"
      ]
     },
     "execution_count": 17,
     "metadata": {},
     "output_type": "execute_result"
    }
   ],
   "source": [
    "a = []\n",
    "for i in range(20):\n",
    "    a.append(i)\n",
    "a.append(1000)\n",
    "print(a)\n",
    "a[0:10], a[10:-1], a[-1]"
   ]
  },
  {
   "cell_type": "code",
   "execution_count": 8,
   "metadata": {},
   "outputs": [
    {
     "data": {
      "text/plain": [
       "array([[0.63425307, 0.10141061, 0.54208564],\n",
       "       [0.55489582, 0.48389965, 0.04701944],\n",
       "       [0.195945  , 0.11064958, 0.80260851]])"
      ]
     },
     "execution_count": 8,
     "metadata": {},
     "output_type": "execute_result"
    }
   ],
   "source": [
    "b = np.delete(a, 1, axis=1)\n",
    "b"
   ]
  },
  {
   "cell_type": "code",
   "execution_count": 9,
   "metadata": {},
   "outputs": [
    {
     "name": "stdout",
     "output_type": "stream",
     "text": [
      "[ -3519896.  -6792470. -12746610.] [-2.349974e+09 -4.498883e+09 -8.297769e+09]\n"
     ]
    },
    {
     "data": {
      "text/plain": [
       "[<matplotlib.lines.Line2D at 0x7fa7a3c522f0>]"
      ]
     },
     "execution_count": 9,
     "metadata": {},
     "output_type": "execute_result"
    },
    {
     "data": {
      "image/png": "[encoded data removed]",
      "text/plain": [
       "<Figure size 640x480 with 1 Axes>"
      ]
     },
     "metadata": {},
     "output_type": "display_data"
    }
   ],
   "source": [
    "data = np.loadtxt('data/nu.dat')\n",
    "\n",
    "x = data.T[1]\n",
    "y = data.T[3]\n",
    "\n",
    "xx = np.linspace(np.min(x), np.max(x), 100)\n",
    "\n",
    "res = sps.linregress(x, y)\n",
    "\n",
    "print(x, y)\n",
    "\n",
    "plt.scatter(x, y)\n",
    "plt.plot(xx, res.intercept + res.slope*xx)"
   ]
  },
  {
   "cell_type": "code",
   "execution_count": 10,
   "metadata": {},
   "outputs": [
    {
     "name": "stdout",
     "output_type": "stream",
     "text": [
      "\u001b[0;31mSignature:\u001b[0m \u001b[0msps\u001b[0m\u001b[0;34m.\u001b[0m\u001b[0mlinregress\u001b[0m\u001b[0;34m(\u001b[0m\u001b[0mx\u001b[0m\u001b[0;34m,\u001b[0m \u001b[0my\u001b[0m\u001b[0;34m=\u001b[0m\u001b[0;32mNone\u001b[0m\u001b[0;34m,\u001b[0m \u001b[0malternative\u001b[0m\u001b[0;34m=\u001b[0m\u001b[0;34m'two-sided'\u001b[0m\u001b[0;34m)\u001b[0m\u001b[0;34m\u001b[0m\u001b[0;34m\u001b[0m\u001b[0m\n",
      "\u001b[0;31mDocstring:\u001b[0m\n",
      "Calculate a linear least-squares regression for two sets of measurements.\n",
      "\n",
      "Parameters\n",
      "----------\n",
      "x, y : array_like\n",
      "    Two sets of measurements.  Both arrays should have the same length.  If\n",
      "    only `x` is given (and ``y=None``), then it must be a two-dimensional\n",
      "    array where one dimension has length 2.  The two sets of measurements\n",
      "    are then found by splitting the array along the length-2 dimension. In\n",
      "    the case where ``y=None`` and `x` is a 2x2 array, ``linregress(x)`` is\n",
      "    equivalent to ``linregress(x[0], x[1])``.\n",
      "alternative : {'two-sided', 'less', 'greater'}, optional\n",
      "    Defines the alternative hypothesis. Default is 'two-sided'.\n",
      "    The following options are available:\n",
      "\n",
      "    * 'two-sided': the slope of the regression line is nonzero\n",
      "    * 'less': the slope of the regression line is less than zero\n",
      "    * 'greater':  the slope of the regression line is greater than zero\n",
      "\n",
      "    .. versionadded:: 1.7.0\n",
      "\n",
      "Returns\n",
      "-------\n",
      "result : ``LinregressResult`` instance\n",
      "    The return value is an object with the following attributes:\n",
      "\n",
      "    slope : float\n",
      "        Slope of the regression line.\n",
      "    intercept : float\n",
      "        Intercept of the regression line.\n",
      "    rvalue : float\n",
      "        The Pearson correlation coefficient. The square of ``rvalue``\n",
      "        is equal to the coefficient of determination.\n",
      "    pvalue : float\n",
      "        The p-value for a hypothesis test whose null hypothesis is\n",
      "        that the slope is zero, using Wald Test with t-distribution of\n",
      "        the test statistic. See `alternative` above for alternative\n",
      "        hypotheses.\n",
      "    stderr : float\n",
      "        Standard error of the estimated slope (gradient), under the\n",
      "        assumption of residual normality.\n",
      "    intercept_stderr : float\n",
      "        Standard error of the estimated intercept, under the assumption\n",
      "        of residual normality.\n",
      "\n",
      "See Also\n",
      "--------\n",
      "scipy.optimize.curve_fit :\n",
      "    Use non-linear least squares to fit a function to data.\n",
      "scipy.optimize.leastsq :\n",
      "    Minimize the sum of squares of a set of equations.\n",
      "\n",
      "Notes\n",
      "-----\n",
      "Missing values are considered pair-wise: if a value is missing in `x`,\n",
      "the corresponding value in `y` is masked.\n",
      "\n",
      "For compatibility with older versions of SciPy, the return value acts\n",
      "like a ``namedtuple`` of length 5, with fields ``slope``, ``intercept``,\n",
      "``rvalue``, ``pvalue`` and ``stderr``, so one can continue to write::\n",
      "\n",
      "    slope, intercept, r, p, se = linregress(x, y)\n",
      "\n",
      "With that style, however, the standard error of the intercept is not\n",
      "available.  To have access to all the computed values, including the\n",
      "standard error of the intercept, use the return value as an object\n",
      "with attributes, e.g.::\n",
      "\n",
      "    result = linregress(x, y)\n",
      "    print(result.intercept, result.intercept_stderr)\n",
      "\n",
      "Examples\n",
      "--------\n",
      ">>> import numpy as np\n",
      ">>> import matplotlib.pyplot as plt\n",
      ">>> from scipy import stats\n",
      ">>> rng = np.random.default_rng()\n",
      "\n",
      "Generate some data:\n",
      "\n",
      ">>> x = rng.random(10)\n",
      ">>> y = 1.6*x + rng.random(10)\n",
      "\n",
      "Perform the linear regression:\n",
      "\n",
      ">>> res = stats.linregress(x, y)\n",
      "\n",
      "Coefficient of determination (R-squared):\n",
      "\n",
      ">>> print(f\"R-squared: {res.rvalue**2:.6f}\")\n",
      "R-squared: 0.717533\n",
      "\n",
      "Plot the data along with the fitted line:\n",
      "\n",
      ">>> plt.plot(x, y, 'o', label='original data')\n",
      ">>> plt.plot(x, res.intercept + res.slope*x, 'r', label='fitted line')\n",
      ">>> plt.legend()\n",
      ">>> plt.show()\n",
      "\n",
      "Calculate 95% confidence interval on slope and intercept:\n",
      "\n",
      ">>> # Two-sided inverse Students t-distribution\n",
      ">>> # p - probability, df - degrees of freedom\n",
      ">>> from scipy.stats import t\n",
      ">>> tinv = lambda p, df: abs(t.ppf(p/2, df))\n",
      "\n",
      ">>> ts = tinv(0.05, len(x)-2)\n",
      ">>> print(f\"slope (95%): {res.slope:.6f} +/- {ts*res.stderr:.6f}\")\n",
      "slope (95%): 1.453392 +/- 0.743465\n",
      ">>> print(f\"intercept (95%): {res.intercept:.6f}\"\n",
      "...       f\" +/- {ts*res.intercept_stderr:.6f}\")\n",
      "intercept (95%): 0.616950 +/- 0.544475\n",
      "\u001b[0;31mFile:\u001b[0m      ~/anaconda3/envs/qibo/lib/python3.10/site-packages/scipy/stats/_stats_mstats_common.py\n",
      "\u001b[0;31mType:\u001b[0m      function\n"
     ]
    }
   ],
   "source": []
  },
  {
   "cell_type": "markdown",
   "metadata": {},
   "source": []
  },
  {
   "cell_type": "code",
   "execution_count": 4,
   "metadata": {},
   "outputs": [],
   "source": [
    "xx = np.linspace(0,1,100)\n",
    "x = np.linspace(0,1,3)\n",
    "y = np.linspace(0,1,3) + np.random.normal(1, 0.1, 3)"
   ]
  },
  {
   "cell_type": "code",
   "execution_count": 5,
   "metadata": {},
   "outputs": [
    {
     "data": {
      "text/plain": [
       "[<matplotlib.lines.Line2D at 0x7fa7ce619060>]"
      ]
     },
     "execution_count": 5,
     "metadata": {},
     "output_type": "execute_result"
    },
    {
     "data": {
      "image/png": "[encoded data removed]",
      "text/plain": [
       "<Figure size 640x480 with 1 Axes>"
      ]
     },
     "metadata": {},
     "output_type": "display_data"
    }
   ],
   "source": [
    "p = np.polyfit(x,-y,deg=1)\n",
    "\n",
    "plt.scatter(x,-y)\n",
    "plt.plot(xx, p[0]+p[1]*xx)"
   ]
  },
  {
   "cell_type": "code",
   "execution_count": 13,
   "metadata": {},
   "outputs": [
    {
     "data": {
      "text/plain": [
       "(3, 4)"
      ]
     },
     "execution_count": 13,
     "metadata": {},
     "output_type": "execute_result"
    }
   ],
   "source": [
    "data.shape"
   ]
  },
  {
   "cell_type": "code",
   "execution_count": 24,
   "metadata": {},
   "outputs": [],
   "source": [
    "y = data.T[1:]"
   ]
  },
  {
   "cell_type": "code",
   "execution_count": 25,
   "metadata": {},
   "outputs": [
    {
     "data": {
      "text/plain": [
       "array([4.257060e+08, 8.495340e+08, 1.705389e+09])"
      ]
     },
     "execution_count": 25,
     "metadata": {},
     "output_type": "execute_result"
    }
   ],
   "source": [
    "y[1]"
   ]
  },
  {
   "cell_type": "code",
   "execution_count": 9,
   "metadata": {},
   "outputs": [],
   "source": [
    "a = np.zeros((13,2))"
   ]
  },
  {
   "cell_type": "code",
   "execution_count": 11,
   "metadata": {},
   "outputs": [
    {
     "data": {
      "text/plain": [
       "array([0., 0.])"
      ]
     },
     "execution_count": 11,
     "metadata": {},
     "output_type": "execute_result"
    }
   ],
   "source": [
    "a[5]"
   ]
  },
  {
   "cell_type": "code",
   "execution_count": 1,
   "metadata": {},
   "outputs": [],
   "source": [
    "import numpy as np\n",
    "import sympy as sp\n",
    "import itertools\n",
    "import matplotlib.pyplot as plt\n",
    "import string\n",
    "from sympy import LeviCivita\n",
    "from sympy.abc import symbols\n",
    "from sympy import diff\n",
    "from sympy import Matrix, matrix_multiply_elementwise"
   ]
  },
  {
   "cell_type": "code",
   "execution_count": 30,
   "metadata": {},
   "outputs": [],
   "source": [
    "def levi_civita_tensor(dim): \n",
    "    \"\"\"\n",
    "    Compute the Levi-Civita tensor of rank dim in\n",
    "    dim-dimensional space.\n",
    "\n",
    "    Parameters\n",
    "    ----------\n",
    "    dim: INT\n",
    "        The dimension of the space.\n",
    "\n",
    "    Returns\n",
    "    -------\n",
    "    TENSOR\n",
    "        A numpy array representing the Levi-Civita tensor.\n",
    "        The tensor is a multi-dimensional array of shape (dim, dim, ..., dim).\n",
    "    \"\"\"\n",
    "    arr=np.zeros([dim for _ in range(dim)])\n",
    "    for x in itertools.permutations(range(dim)):\n",
    "        mat = np.zeros((dim, dim), dtype=np.int32)\n",
    "        for i, j in enumerate(x):\n",
    "            mat[i][j] = 1\n",
    "        arr[x]=int(np.linalg.det(mat))\n",
    "    return arr"
   ]
  },
  {
   "cell_type": "code",
   "execution_count": 31,
   "metadata": {},
   "outputs": [
    {
     "data": {
      "text/plain": [
       "array([[[ 0.,  0.,  0.],\n",
       "        [ 0.,  0.,  1.],\n",
       "        [ 0., -1.,  0.]],\n",
       "\n",
       "       [[ 0.,  0., -1.],\n",
       "        [ 0.,  0.,  0.],\n",
       "        [ 1.,  0.,  0.]],\n",
       "\n",
       "       [[ 0.,  1.,  0.],\n",
       "        [-1.,  0.,  0.],\n",
       "        [ 0.,  0.,  0.]]])"
      ]
     },
     "execution_count": 31,
     "metadata": {},
     "output_type": "execute_result"
    }
   ],
   "source": [
    "levi_civita_tensor(3)"
   ]
  },
  {
   "cell_type": "code",
   "execution_count": 32,
   "metadata": {},
   "outputs": [],
   "source": [
    "def gen_einsum_string(n):\n",
    "    \"\"\"\n",
    "    Generate a string of the form 'ij, abc, i, a, b, cj', to be\n",
    "    used in the Einstein summation for the GKP formula.\n",
    "\n",
    "    Parameters\n",
    "    ----------\n",
    "    n : INT\n",
    "        Number of transitions.\n",
    "\n",
    "    Returns\n",
    "    -------\n",
    "    einsum_str : STR\n",
    "\n",
    "    \"\"\"\n",
    "    col_row_str = [] \n",
    "    transition_indices = ''.join(chr(105 + i) for i in range(n))\n",
    "                # 'ijk...' for n\n",
    "    isotope_pair_indices = ''.join(chr(97 + i) for i in range(n+1))\n",
    "                # 'abc...' for n+1\n",
    "    fixed_str = (transition_indices + ', ' + isotope_pair_indices \n",
    "                 + ', ' + 'i' + ', ' + 'a' + ', ' + 'b')\n",
    "    \n",
    "    \n",
    "    for i in range(n-1):\n",
    "        row_index = ''.join(chr(99 + i)) #'c'... for n-1\n",
    "        col_index = ''.join(chr(106 + i)) #'j'... for n-1\n",
    "        tot = row_index + col_index #'cj'\n",
    "        col_row_str.append(tot) #'cj, dk,...' for n-1\n",
    "    \n",
    "    mat_indices_str = ', '.join(col_row_str)\n",
    "    \n",
    "    einsum_str = fixed_str + ', ' + mat_indices_str\n",
    "    \n",
    "    return einsum_str"
   ]
  },
  {
   "cell_type": "code",
   "execution_count": 33,
   "metadata": {},
   "outputs": [
    {
     "data": {
      "text/plain": [
       "'ijklm, abcdef, i, a, b, cj, dk, el, fm'"
      ]
     },
     "execution_count": 33,
     "metadata": {},
     "output_type": "execute_result"
    }
   ],
   "source": [
    "gen_einsum_string(5)"
   ]
  },
  {
   "cell_type": "code",
   "execution_count": null,
   "metadata": {},
   "outputs": [],
   "source": []
  }
 ],
 "metadata": {
  "kernelspec": {
   "display_name": "Python 3 (ipykernel)",
   "language": "python",
   "name": "python3"
  },
  "language_info": {
   "codemirror_mode": {
    "name": "ipython",
    "version": 3
   },
   "file_extension": ".py",
   "mimetype": "text/x-python",
   "name": "python",
   "nbconvert_exporter": "python",
   "pygments_lexer": "ipython3",
   "version": "3.8.10"
  }
 },
 "nbformat": 4,
 "nbformat_minor": 2
}
